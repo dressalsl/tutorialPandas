{
  "nbformat": 4,
  "nbformat_minor": 0,
  "metadata": {
    "kernelspec": {
      "display_name": "Python 3",
      "language": "python",
      "name": "python3"
    },
    "language_info": {
      "codemirror_mode": {
        "name": "ipython",
        "version": 3
      },
      "file_extension": ".py",
      "mimetype": "text/x-python",
      "name": "python",
      "nbconvert_exporter": "python",
      "pygments_lexer": "ipython3",
      "version": "3.7.3"
    },
    "colab": {
      "name": "2- SelecionandoDadosDataFrame.ipynb",
      "version": "0.3.2",
      "provenance": []
    }
  },
  "cells": [
    {
      "cell_type": "code",
      "metadata": {
        "id": "2NV-DMHM0EW4",
        "colab_type": "code",
        "colab": {}
      },
      "source": [
        "# Importando o pandas e o leitor de url\n",
        "import pandas as pd\n",
        "import io\n",
        "import requests"
      ],
      "execution_count": 0,
      "outputs": []
    },
    {
      "cell_type": "code",
      "metadata": {
        "id": "6o0XNILD0EW-",
        "colab_type": "code",
        "colab": {}
      },
      "source": [
        "# Lendo a url do arquivo csv\n",
        "url = \"https://raw.githubusercontent.com/BuzzFeedNews/zika-data/master/data/parsed/brazil/brazil-microcephaly-2016-01-23-table-1.csv\"\n",
        "df = pd.read_csv(url, sep=',')"
      ],
      "execution_count": 0,
      "outputs": []
    },
    {
      "cell_type": "code",
      "metadata": {
        "id": "xn2s89Q_0EXC",
        "colab_type": "code",
        "colab": {
          "base_uri": "https://localhost:8080/",
          "height": 204
        },
        "outputId": "ea4eefc7-0f73-49ee-c3f9-b6aa483828db"
      },
      "source": [
        "df.head()"
      ],
      "execution_count": 3,
      "outputs": [
        {
          "output_type": "execute_result",
          "data": {
            "text/html": [
              "<div>\n",
              "<style scoped>\n",
              "    .dataframe tbody tr th:only-of-type {\n",
              "        vertical-align: middle;\n",
              "    }\n",
              "\n",
              "    .dataframe tbody tr th {\n",
              "        vertical-align: top;\n",
              "    }\n",
              "\n",
              "    .dataframe thead th {\n",
              "        text-align: right;\n",
              "    }\n",
              "</style>\n",
              "<table border=\"1\" class=\"dataframe\">\n",
              "  <thead>\n",
              "    <tr style=\"text-align: right;\">\n",
              "      <th></th>\n",
              "      <th>no</th>\n",
              "      <th>state</th>\n",
              "      <th>cases_under_investigation</th>\n",
              "      <th>cases_confirmed</th>\n",
              "      <th>cases_discarded</th>\n",
              "      <th>cases_reported_total</th>\n",
              "    </tr>\n",
              "  </thead>\n",
              "  <tbody>\n",
              "    <tr>\n",
              "      <th>0</th>\n",
              "      <td>1</td>\n",
              "      <td>Alagoas</td>\n",
              "      <td>158</td>\n",
              "      <td>0</td>\n",
              "      <td>0</td>\n",
              "      <td>158</td>\n",
              "    </tr>\n",
              "    <tr>\n",
              "      <th>1</th>\n",
              "      <td>2</td>\n",
              "      <td>Bahia</td>\n",
              "      <td>471</td>\n",
              "      <td>35</td>\n",
              "      <td>27</td>\n",
              "      <td>533</td>\n",
              "    </tr>\n",
              "    <tr>\n",
              "      <th>2</th>\n",
              "      <td>3</td>\n",
              "      <td>Ceará</td>\n",
              "      <td>218</td>\n",
              "      <td>4</td>\n",
              "      <td>7</td>\n",
              "      <td>229</td>\n",
              "    </tr>\n",
              "    <tr>\n",
              "      <th>3</th>\n",
              "      <td>4</td>\n",
              "      <td>Maranhão</td>\n",
              "      <td>119</td>\n",
              "      <td>0</td>\n",
              "      <td>15</td>\n",
              "      <td>134</td>\n",
              "    </tr>\n",
              "    <tr>\n",
              "      <th>4</th>\n",
              "      <td>5</td>\n",
              "      <td>Paraíba</td>\n",
              "      <td>497</td>\n",
              "      <td>31</td>\n",
              "      <td>181</td>\n",
              "      <td>709</td>\n",
              "    </tr>\n",
              "  </tbody>\n",
              "</table>\n",
              "</div>"
            ],
            "text/plain": [
              "   no     state  ... cases_discarded cases_reported_total\n",
              "0   1   Alagoas  ...               0                  158\n",
              "1   2     Bahia  ...              27                  533\n",
              "2   3     Ceará  ...               7                  229\n",
              "3   4  Maranhão  ...              15                  134\n",
              "4   5   Paraíba  ...             181                  709\n",
              "\n",
              "[5 rows x 6 columns]"
            ]
          },
          "metadata": {
            "tags": []
          },
          "execution_count": 3
        }
      ]
    },
    {
      "cell_type": "code",
      "metadata": {
        "id": "YSxY7t8e0EXI",
        "colab_type": "code",
        "colab": {}
      },
      "source": [
        "# Utilizarei o .head() para facilitar a vizualização do DataFrame"
      ],
      "execution_count": 0,
      "outputs": []
    },
    {
      "cell_type": "code",
      "metadata": {
        "id": "vrwV4nbt0EXL",
        "colab_type": "code",
        "colab": {},
        "outputId": "cdf0cc16-d22c-4d32-f9d6-13b47e45736f"
      },
      "source": [
        "# Selecionando 01 coluna pelo índice\n",
        "df[\"state\"].head()"
      ],
      "execution_count": 0,
      "outputs": [
        {
          "output_type": "execute_result",
          "data": {
            "text/plain": [
              "0     Alagoas\n",
              "1       Bahia\n",
              "2       Ceará\n",
              "3    Maranhão\n",
              "4     Paraíba\n",
              "Name: state, dtype: object"
            ]
          },
          "metadata": {
            "tags": []
          },
          "execution_count": 7
        }
      ]
    },
    {
      "cell_type": "code",
      "metadata": {
        "id": "rM_wBUmq0EXR",
        "colab_type": "code",
        "colab": {},
        "outputId": "73df5f1b-5784-4ab1-8dbc-542568fe4533"
      },
      "source": [
        "# Selecionando n colunas pelo índice\n",
        "df[[\"state\",\"cases_under_investigation\",\"cases_reported_total\"]].head()"
      ],
      "execution_count": 0,
      "outputs": [
        {
          "output_type": "execute_result",
          "data": {
            "text/html": [
              "<div>\n",
              "<style scoped>\n",
              "    .dataframe tbody tr th:only-of-type {\n",
              "        vertical-align: middle;\n",
              "    }\n",
              "\n",
              "    .dataframe tbody tr th {\n",
              "        vertical-align: top;\n",
              "    }\n",
              "\n",
              "    .dataframe thead th {\n",
              "        text-align: right;\n",
              "    }\n",
              "</style>\n",
              "<table border=\"1\" class=\"dataframe\">\n",
              "  <thead>\n",
              "    <tr style=\"text-align: right;\">\n",
              "      <th></th>\n",
              "      <th>state</th>\n",
              "      <th>cases_under_investigation</th>\n",
              "      <th>cases_reported_total</th>\n",
              "    </tr>\n",
              "  </thead>\n",
              "  <tbody>\n",
              "    <tr>\n",
              "      <th>0</th>\n",
              "      <td>Alagoas</td>\n",
              "      <td>158</td>\n",
              "      <td>158</td>\n",
              "    </tr>\n",
              "    <tr>\n",
              "      <th>1</th>\n",
              "      <td>Bahia</td>\n",
              "      <td>471</td>\n",
              "      <td>533</td>\n",
              "    </tr>\n",
              "    <tr>\n",
              "      <th>2</th>\n",
              "      <td>Ceará</td>\n",
              "      <td>218</td>\n",
              "      <td>229</td>\n",
              "    </tr>\n",
              "    <tr>\n",
              "      <th>3</th>\n",
              "      <td>Maranhão</td>\n",
              "      <td>119</td>\n",
              "      <td>134</td>\n",
              "    </tr>\n",
              "    <tr>\n",
              "      <th>4</th>\n",
              "      <td>Paraíba</td>\n",
              "      <td>497</td>\n",
              "      <td>709</td>\n",
              "    </tr>\n",
              "  </tbody>\n",
              "</table>\n",
              "</div>"
            ],
            "text/plain": [
              "      state cases_under_investigation cases_reported_total\n",
              "0   Alagoas                       158                  158\n",
              "1     Bahia                       471                  533\n",
              "2     Ceará                       218                  229\n",
              "3  Maranhão                       119                  134\n",
              "4   Paraíba                       497                  709"
            ]
          },
          "metadata": {
            "tags": []
          },
          "execution_count": 9
        }
      ]
    },
    {
      "cell_type": "code",
      "metadata": {
        "id": "h66ChBa50EXV",
        "colab_type": "code",
        "colab": {},
        "outputId": "0a5ddb59-7f9e-46ee-f5ac-3b44a1348257"
      },
      "source": [
        "# Selecionando a coluna pela notação de ponto\n",
        "df.state.head()"
      ],
      "execution_count": 0,
      "outputs": [
        {
          "output_type": "execute_result",
          "data": {
            "text/plain": [
              "0     Alagoas\n",
              "1       Bahia\n",
              "2       Ceará\n",
              "3    Maranhão\n",
              "4     Paraíba\n",
              "Name: state, dtype: object"
            ]
          },
          "metadata": {
            "tags": []
          },
          "execution_count": 12
        }
      ]
    },
    {
      "cell_type": "code",
      "metadata": {
        "id": "9DiD8NXP0EXZ",
        "colab_type": "code",
        "colab": {}
      },
      "source": [
        "# Adicionando uma nova coluna com dados de duas colunas existentes\n",
        "df[\"nova_coluna\"] = df[\"state\"] + \" \" + df[\"cases_reported_total\"]"
      ],
      "execution_count": 0,
      "outputs": []
    },
    {
      "cell_type": "code",
      "metadata": {
        "id": "KAem60Ri0EXe",
        "colab_type": "code",
        "colab": {},
        "outputId": "61d6cfeb-cec0-49c0-fc22-d2ef90de529a"
      },
      "source": [
        "df.head()"
      ],
      "execution_count": 0,
      "outputs": [
        {
          "output_type": "execute_result",
          "data": {
            "text/html": [
              "<div>\n",
              "<style scoped>\n",
              "    .dataframe tbody tr th:only-of-type {\n",
              "        vertical-align: middle;\n",
              "    }\n",
              "\n",
              "    .dataframe tbody tr th {\n",
              "        vertical-align: top;\n",
              "    }\n",
              "\n",
              "    .dataframe thead th {\n",
              "        text-align: right;\n",
              "    }\n",
              "</style>\n",
              "<table border=\"1\" class=\"dataframe\">\n",
              "  <thead>\n",
              "    <tr style=\"text-align: right;\">\n",
              "      <th></th>\n",
              "      <th>no</th>\n",
              "      <th>state</th>\n",
              "      <th>cases_under_investigation</th>\n",
              "      <th>cases_confirmed</th>\n",
              "      <th>cases_discarded</th>\n",
              "      <th>cases_reported_total</th>\n",
              "      <th>nova_coluna</th>\n",
              "    </tr>\n",
              "  </thead>\n",
              "  <tbody>\n",
              "    <tr>\n",
              "      <th>0</th>\n",
              "      <td>1</td>\n",
              "      <td>Alagoas</td>\n",
              "      <td>158</td>\n",
              "      <td>0</td>\n",
              "      <td>0</td>\n",
              "      <td>158</td>\n",
              "      <td>Alagoas 158</td>\n",
              "    </tr>\n",
              "    <tr>\n",
              "      <th>1</th>\n",
              "      <td>2</td>\n",
              "      <td>Bahia</td>\n",
              "      <td>471</td>\n",
              "      <td>35</td>\n",
              "      <td>27</td>\n",
              "      <td>533</td>\n",
              "      <td>Bahia 533</td>\n",
              "    </tr>\n",
              "    <tr>\n",
              "      <th>2</th>\n",
              "      <td>3</td>\n",
              "      <td>Ceará</td>\n",
              "      <td>218</td>\n",
              "      <td>4</td>\n",
              "      <td>7</td>\n",
              "      <td>229</td>\n",
              "      <td>Ceará 229</td>\n",
              "    </tr>\n",
              "    <tr>\n",
              "      <th>3</th>\n",
              "      <td>4</td>\n",
              "      <td>Maranhão</td>\n",
              "      <td>119</td>\n",
              "      <td>0</td>\n",
              "      <td>15</td>\n",
              "      <td>134</td>\n",
              "      <td>Maranhão 134</td>\n",
              "    </tr>\n",
              "    <tr>\n",
              "      <th>4</th>\n",
              "      <td>5</td>\n",
              "      <td>Paraíba</td>\n",
              "      <td>497</td>\n",
              "      <td>31</td>\n",
              "      <td>181</td>\n",
              "      <td>709</td>\n",
              "      <td>Paraíba 709</td>\n",
              "    </tr>\n",
              "  </tbody>\n",
              "</table>\n",
              "</div>"
            ],
            "text/plain": [
              "   no     state cases_under_investigation cases_confirmed cases_discarded  \\\n",
              "0   1   Alagoas                       158               0               0   \n",
              "1   2     Bahia                       471              35              27   \n",
              "2   3     Ceará                       218               4               7   \n",
              "3   4  Maranhão                       119               0              15   \n",
              "4   5   Paraíba                       497              31             181   \n",
              "\n",
              "  cases_reported_total   nova_coluna  \n",
              "0                  158   Alagoas 158  \n",
              "1                  533     Bahia 533  \n",
              "2                  229     Ceará 229  \n",
              "3                  134  Maranhão 134  \n",
              "4                  709   Paraíba 709  "
            ]
          },
          "metadata": {
            "tags": []
          },
          "execution_count": 14
        }
      ]
    },
    {
      "cell_type": "code",
      "metadata": {
        "id": "6jvWrmXc0EX7",
        "colab_type": "code",
        "colab": {},
        "outputId": "dd7d8d73-499c-46f4-b5c5-8dcf6aeafca5"
      },
      "source": [
        "# Excluindo colunas pelo argumento axis = 1\n",
        "df.drop(\"no\",axis=1).head()"
      ],
      "execution_count": 0,
      "outputs": [
        {
          "output_type": "execute_result",
          "data": {
            "text/html": [
              "<div>\n",
              "<style scoped>\n",
              "    .dataframe tbody tr th:only-of-type {\n",
              "        vertical-align: middle;\n",
              "    }\n",
              "\n",
              "    .dataframe tbody tr th {\n",
              "        vertical-align: top;\n",
              "    }\n",
              "\n",
              "    .dataframe thead th {\n",
              "        text-align: right;\n",
              "    }\n",
              "</style>\n",
              "<table border=\"1\" class=\"dataframe\">\n",
              "  <thead>\n",
              "    <tr style=\"text-align: right;\">\n",
              "      <th></th>\n",
              "      <th>state</th>\n",
              "      <th>cases_under_investigation</th>\n",
              "      <th>cases_confirmed</th>\n",
              "      <th>cases_discarded</th>\n",
              "      <th>cases_reported_total</th>\n",
              "      <th>nova_coluna</th>\n",
              "    </tr>\n",
              "  </thead>\n",
              "  <tbody>\n",
              "    <tr>\n",
              "      <th>0</th>\n",
              "      <td>Alagoas</td>\n",
              "      <td>158</td>\n",
              "      <td>0</td>\n",
              "      <td>0</td>\n",
              "      <td>158</td>\n",
              "      <td>Alagoas 158</td>\n",
              "    </tr>\n",
              "    <tr>\n",
              "      <th>1</th>\n",
              "      <td>Bahia</td>\n",
              "      <td>471</td>\n",
              "      <td>35</td>\n",
              "      <td>27</td>\n",
              "      <td>533</td>\n",
              "      <td>Bahia 533</td>\n",
              "    </tr>\n",
              "    <tr>\n",
              "      <th>2</th>\n",
              "      <td>Ceará</td>\n",
              "      <td>218</td>\n",
              "      <td>4</td>\n",
              "      <td>7</td>\n",
              "      <td>229</td>\n",
              "      <td>Ceará 229</td>\n",
              "    </tr>\n",
              "    <tr>\n",
              "      <th>3</th>\n",
              "      <td>Maranhão</td>\n",
              "      <td>119</td>\n",
              "      <td>0</td>\n",
              "      <td>15</td>\n",
              "      <td>134</td>\n",
              "      <td>Maranhão 134</td>\n",
              "    </tr>\n",
              "    <tr>\n",
              "      <th>4</th>\n",
              "      <td>Paraíba</td>\n",
              "      <td>497</td>\n",
              "      <td>31</td>\n",
              "      <td>181</td>\n",
              "      <td>709</td>\n",
              "      <td>Paraíba 709</td>\n",
              "    </tr>\n",
              "  </tbody>\n",
              "</table>\n",
              "</div>"
            ],
            "text/plain": [
              "      state cases_under_investigation cases_confirmed cases_discarded  \\\n",
              "0   Alagoas                       158               0               0   \n",
              "1     Bahia                       471              35              27   \n",
              "2     Ceará                       218               4               7   \n",
              "3  Maranhão                       119               0              15   \n",
              "4   Paraíba                       497              31             181   \n",
              "\n",
              "  cases_reported_total   nova_coluna  \n",
              "0                  158   Alagoas 158  \n",
              "1                  533     Bahia 533  \n",
              "2                  229     Ceará 229  \n",
              "3                  134  Maranhão 134  \n",
              "4                  709   Paraíba 709  "
            ]
          },
          "metadata": {
            "tags": []
          },
          "execution_count": 15
        }
      ]
    },
    {
      "cell_type": "code",
      "metadata": {
        "id": "AlFk17j70EYF",
        "colab_type": "code",
        "colab": {},
        "outputId": "8a08e0c1-5fac-4d72-ccc3-8b6bfd9c308c"
      },
      "source": [
        "# Excluindo linhas por index\n",
        "df.drop([0,1]).head()"
      ],
      "execution_count": 0,
      "outputs": [
        {
          "output_type": "execute_result",
          "data": {
            "text/html": [
              "<div>\n",
              "<style scoped>\n",
              "    .dataframe tbody tr th:only-of-type {\n",
              "        vertical-align: middle;\n",
              "    }\n",
              "\n",
              "    .dataframe tbody tr th {\n",
              "        vertical-align: top;\n",
              "    }\n",
              "\n",
              "    .dataframe thead th {\n",
              "        text-align: right;\n",
              "    }\n",
              "</style>\n",
              "<table border=\"1\" class=\"dataframe\">\n",
              "  <thead>\n",
              "    <tr style=\"text-align: right;\">\n",
              "      <th></th>\n",
              "      <th>no</th>\n",
              "      <th>state</th>\n",
              "      <th>cases_under_investigation</th>\n",
              "      <th>cases_confirmed</th>\n",
              "      <th>cases_discarded</th>\n",
              "      <th>cases_reported_total</th>\n",
              "      <th>nova_coluna</th>\n",
              "    </tr>\n",
              "  </thead>\n",
              "  <tbody>\n",
              "    <tr>\n",
              "      <th>2</th>\n",
              "      <td>3</td>\n",
              "      <td>Ceará</td>\n",
              "      <td>218</td>\n",
              "      <td>4</td>\n",
              "      <td>7</td>\n",
              "      <td>229</td>\n",
              "      <td>Ceará 229</td>\n",
              "    </tr>\n",
              "    <tr>\n",
              "      <th>3</th>\n",
              "      <td>4</td>\n",
              "      <td>Maranhão</td>\n",
              "      <td>119</td>\n",
              "      <td>0</td>\n",
              "      <td>15</td>\n",
              "      <td>134</td>\n",
              "      <td>Maranhão 134</td>\n",
              "    </tr>\n",
              "    <tr>\n",
              "      <th>4</th>\n",
              "      <td>5</td>\n",
              "      <td>Paraíba</td>\n",
              "      <td>497</td>\n",
              "      <td>31</td>\n",
              "      <td>181</td>\n",
              "      <td>709</td>\n",
              "      <td>Paraíba 709</td>\n",
              "    </tr>\n",
              "    <tr>\n",
              "      <th>5</th>\n",
              "      <td>6</td>\n",
              "      <td>Pernambuco</td>\n",
              "      <td>1125</td>\n",
              "      <td>138</td>\n",
              "      <td>110</td>\n",
              "      <td>1373</td>\n",
              "      <td>Pernambuco 1373</td>\n",
              "    </tr>\n",
              "    <tr>\n",
              "      <th>6</th>\n",
              "      <td>7</td>\n",
              "      <td>Piauí</td>\n",
              "      <td>91</td>\n",
              "      <td>0</td>\n",
              "      <td>0</td>\n",
              "      <td>91</td>\n",
              "      <td>Piauí 91</td>\n",
              "    </tr>\n",
              "  </tbody>\n",
              "</table>\n",
              "</div>"
            ],
            "text/plain": [
              "   no       state cases_under_investigation cases_confirmed cases_discarded  \\\n",
              "2   3       Ceará                       218               4               7   \n",
              "3   4    Maranhão                       119               0              15   \n",
              "4   5     Paraíba                       497              31             181   \n",
              "5   6  Pernambuco                      1125             138             110   \n",
              "6   7       Piauí                        91               0               0   \n",
              "\n",
              "  cases_reported_total      nova_coluna  \n",
              "2                  229        Ceará 229  \n",
              "3                  134     Maranhão 134  \n",
              "4                  709      Paraíba 709  \n",
              "5                 1373  Pernambuco 1373  \n",
              "6                   91         Piauí 91  "
            ]
          },
          "metadata": {
            "tags": []
          },
          "execution_count": 19
        }
      ]
    }
  ]
}