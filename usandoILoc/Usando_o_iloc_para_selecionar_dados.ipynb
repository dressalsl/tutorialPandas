{
  "nbformat": 4,
  "nbformat_minor": 0,
  "metadata": {
    "colab": {
      "name": "Usando o iloc para selecionar dados.ipynb",
      "version": "0.3.2",
      "provenance": [],
      "collapsed_sections": []
    },
    "kernelspec": {
      "name": "python3",
      "display_name": "Python 3"
    }
  },
  "cells": [
    {
      "cell_type": "code",
      "metadata": {
        "id": "V9O63KTxmACJ",
        "colab_type": "code",
        "colab": {}
      },
      "source": [
        "import pandas as pd\n",
        "import io\n",
        "import requests"
      ],
      "execution_count": 0,
      "outputs": []
    },
    {
      "cell_type": "code",
      "metadata": {
        "id": "iSdGkLM5nmyc",
        "colab_type": "code",
        "outputId": "634e3fa9-d0fc-4171-f2a6-011950cf6647",
        "colab": {
          "base_uri": "https://localhost:8080/",
          "height": 206
        }
      },
      "source": [
        "url = \"https://raw.githubusercontent.com/BuzzFeedNews/zika-data/master/data/parsed/brazil/brazil-microcephaly-2016-01-23-table-1.csv\"\n",
        "df = pd.read_csv(url, sep=',')\n",
        "df.head()"
      ],
      "execution_count": 0,
      "outputs": [
        {
          "output_type": "execute_result",
          "data": {
            "text/html": [
              "<div>\n",
              "<style scoped>\n",
              "    .dataframe tbody tr th:only-of-type {\n",
              "        vertical-align: middle;\n",
              "    }\n",
              "\n",
              "    .dataframe tbody tr th {\n",
              "        vertical-align: top;\n",
              "    }\n",
              "\n",
              "    .dataframe thead th {\n",
              "        text-align: right;\n",
              "    }\n",
              "</style>\n",
              "<table border=\"1\" class=\"dataframe\">\n",
              "  <thead>\n",
              "    <tr style=\"text-align: right;\">\n",
              "      <th></th>\n",
              "      <th>no</th>\n",
              "      <th>state</th>\n",
              "      <th>cases_under_investigation</th>\n",
              "      <th>cases_confirmed</th>\n",
              "      <th>cases_discarded</th>\n",
              "      <th>cases_reported_total</th>\n",
              "    </tr>\n",
              "  </thead>\n",
              "  <tbody>\n",
              "    <tr>\n",
              "      <th>0</th>\n",
              "      <td>1</td>\n",
              "      <td>Alagoas</td>\n",
              "      <td>158</td>\n",
              "      <td>0</td>\n",
              "      <td>0</td>\n",
              "      <td>158</td>\n",
              "    </tr>\n",
              "    <tr>\n",
              "      <th>1</th>\n",
              "      <td>2</td>\n",
              "      <td>Bahia</td>\n",
              "      <td>471</td>\n",
              "      <td>35</td>\n",
              "      <td>27</td>\n",
              "      <td>533</td>\n",
              "    </tr>\n",
              "    <tr>\n",
              "      <th>2</th>\n",
              "      <td>3</td>\n",
              "      <td>Ceará</td>\n",
              "      <td>218</td>\n",
              "      <td>4</td>\n",
              "      <td>7</td>\n",
              "      <td>229</td>\n",
              "    </tr>\n",
              "    <tr>\n",
              "      <th>3</th>\n",
              "      <td>4</td>\n",
              "      <td>Maranhão</td>\n",
              "      <td>119</td>\n",
              "      <td>0</td>\n",
              "      <td>15</td>\n",
              "      <td>134</td>\n",
              "    </tr>\n",
              "    <tr>\n",
              "      <th>4</th>\n",
              "      <td>5</td>\n",
              "      <td>Paraíba</td>\n",
              "      <td>497</td>\n",
              "      <td>31</td>\n",
              "      <td>181</td>\n",
              "      <td>709</td>\n",
              "    </tr>\n",
              "  </tbody>\n",
              "</table>\n",
              "</div>"
            ],
            "text/plain": [
              "   no     state  ... cases_discarded cases_reported_total\n",
              "0   1   Alagoas  ...               0                  158\n",
              "1   2     Bahia  ...              27                  533\n",
              "2   3     Ceará  ...               7                  229\n",
              "3   4  Maranhão  ...              15                  134\n",
              "4   5   Paraíba  ...             181                  709\n",
              "\n",
              "[5 rows x 6 columns]"
            ]
          },
          "metadata": {
            "tags": []
          },
          "execution_count": 2
        }
      ]
    },
    {
      "cell_type": "code",
      "metadata": {
        "id": "zadbf1LznpnQ",
        "colab_type": "code",
        "colab": {}
      },
      "source": [
        "# iloc =  selecionar dados de linhas e colunas pelo seu de índice."
      ],
      "execution_count": 0,
      "outputs": []
    },
    {
      "cell_type": "code",
      "metadata": {
        "id": "qvmg32Agn5De",
        "colab_type": "code",
        "outputId": "981bf81c-72a8-42cf-cf1e-d2e90eb4a57f",
        "colab": {
          "base_uri": "https://localhost:8080/",
          "height": 139
        }
      },
      "source": [
        "# Selecionando a primeira linha do DataFrame\n",
        "df.iloc[0]"
      ],
      "execution_count": 0,
      "outputs": [
        {
          "output_type": "execute_result",
          "data": {
            "text/plain": [
              "no                                 1\n",
              "state                        Alagoas\n",
              "cases_under_investigation        158\n",
              "cases_confirmed                    0\n",
              "cases_discarded                    0\n",
              "cases_reported_total             158\n",
              "Name: 0, dtype: object"
            ]
          },
          "metadata": {
            "tags": []
          },
          "execution_count": 5
        }
      ]
    },
    {
      "cell_type": "code",
      "metadata": {
        "id": "0iSGnBsZoOQb",
        "colab_type": "code",
        "outputId": "60132c71-6e49-480b-fa78-26d711d4c921",
        "colab": {
          "base_uri": "https://localhost:8080/",
          "height": 139
        }
      },
      "source": [
        "# Selecionando a última linha do DataFrame\n",
        "df.iloc[-1]"
      ],
      "execution_count": 0,
      "outputs": [
        {
          "output_type": "execute_result",
          "data": {
            "text/plain": [
              "no                                          27\n",
              "state                        Rio Grande do Sul\n",
              "cases_under_investigation                    0\n",
              "cases_confirmed                              1\n",
              "cases_discarded                              0\n",
              "cases_reported_total                         1\n",
              "Name: 26, dtype: object"
            ]
          },
          "metadata": {
            "tags": []
          },
          "execution_count": 9
        }
      ]
    },
    {
      "cell_type": "code",
      "metadata": {
        "id": "rWvrt9K4oYNF",
        "colab_type": "code",
        "outputId": "c5b1997d-b6d4-408b-b494-812c29798d05",
        "colab": {
          "base_uri": "https://localhost:8080/",
          "height": 503
        }
      },
      "source": [
        "# Selecionando todos os dados da segunda coluna\n",
        "df.iloc[:,1]"
      ],
      "execution_count": 0,
      "outputs": [
        {
          "output_type": "execute_result",
          "data": {
            "text/plain": [
              "0                 Alagoas\n",
              "1                   Bahia\n",
              "2                   Ceará\n",
              "3                Maranhão\n",
              "4                 Paraíba\n",
              "5              Pernambuco\n",
              "6                   Piauí\n",
              "7     Rio Grande do Norte\n",
              "8                 Sergipe\n",
              "9          Espírito Santo\n",
              "10           Minas Gerais\n",
              "11         Rio de Janeiro\n",
              "12              São Paulo\n",
              "13                   Acre\n",
              "14                  Amapá\n",
              "15               Amazonas\n",
              "16                   Pará\n",
              "17               Rondônia\n",
              "18                Roraima\n",
              "19              Tocantins\n",
              "20       Distrito Federal\n",
              "21                  Goiás\n",
              "22            Mato Grosso\n",
              "23     Mato Grosso do Sul\n",
              "24                 Paraná\n",
              "25         Santa Catarina\n",
              "26      Rio Grande do Sul\n",
              "Name: state, dtype: object"
            ]
          },
          "metadata": {
            "tags": []
          },
          "execution_count": 10
        }
      ]
    },
    {
      "cell_type": "code",
      "metadata": {
        "id": "YEtp1l5CpSTf",
        "colab_type": "code",
        "outputId": "48319520-ac9b-4296-8d9d-50d9a62ed8dd",
        "colab": {
          "base_uri": "https://localhost:8080/",
          "height": 121
        }
      },
      "source": [
        "# Selecionando do 1º ao 5º da última coluna\n",
        "df.iloc[0:5,-1]"
      ],
      "execution_count": 0,
      "outputs": [
        {
          "output_type": "execute_result",
          "data": {
            "text/plain": [
              "0    158\n",
              "1    533\n",
              "2    229\n",
              "3    134\n",
              "4    709\n",
              "Name: cases_reported_total, dtype: object"
            ]
          },
          "metadata": {
            "tags": []
          },
          "execution_count": 13
        }
      ]
    },
    {
      "cell_type": "code",
      "metadata": {
        "id": "VgQKD0fzpzWe",
        "colab_type": "code",
        "outputId": "d74b6a9b-461e-4754-fc2d-0bc780fd5778",
        "colab": {
          "base_uri": "https://localhost:8080/",
          "height": 143
        }
      },
      "source": [
        "# Selecionando as três primeiras linhas do DataFrame\n",
        "df.iloc[0:3]"
      ],
      "execution_count": 0,
      "outputs": [
        {
          "output_type": "execute_result",
          "data": {
            "text/html": [
              "<div>\n",
              "<style scoped>\n",
              "    .dataframe tbody tr th:only-of-type {\n",
              "        vertical-align: middle;\n",
              "    }\n",
              "\n",
              "    .dataframe tbody tr th {\n",
              "        vertical-align: top;\n",
              "    }\n",
              "\n",
              "    .dataframe thead th {\n",
              "        text-align: right;\n",
              "    }\n",
              "</style>\n",
              "<table border=\"1\" class=\"dataframe\">\n",
              "  <thead>\n",
              "    <tr style=\"text-align: right;\">\n",
              "      <th></th>\n",
              "      <th>no</th>\n",
              "      <th>state</th>\n",
              "      <th>cases_under_investigation</th>\n",
              "      <th>cases_confirmed</th>\n",
              "      <th>cases_discarded</th>\n",
              "      <th>cases_reported_total</th>\n",
              "    </tr>\n",
              "  </thead>\n",
              "  <tbody>\n",
              "    <tr>\n",
              "      <th>0</th>\n",
              "      <td>1</td>\n",
              "      <td>Alagoas</td>\n",
              "      <td>158</td>\n",
              "      <td>0</td>\n",
              "      <td>0</td>\n",
              "      <td>158</td>\n",
              "    </tr>\n",
              "    <tr>\n",
              "      <th>1</th>\n",
              "      <td>2</td>\n",
              "      <td>Bahia</td>\n",
              "      <td>471</td>\n",
              "      <td>35</td>\n",
              "      <td>27</td>\n",
              "      <td>533</td>\n",
              "    </tr>\n",
              "    <tr>\n",
              "      <th>2</th>\n",
              "      <td>3</td>\n",
              "      <td>Ceará</td>\n",
              "      <td>218</td>\n",
              "      <td>4</td>\n",
              "      <td>7</td>\n",
              "      <td>229</td>\n",
              "    </tr>\n",
              "  </tbody>\n",
              "</table>\n",
              "</div>"
            ],
            "text/plain": [
              "   no    state  ... cases_discarded cases_reported_total\n",
              "0   1  Alagoas  ...               0                  158\n",
              "1   2    Bahia  ...              27                  533\n",
              "2   3    Ceará  ...               7                  229\n",
              "\n",
              "[3 rows x 6 columns]"
            ]
          },
          "metadata": {
            "tags": []
          },
          "execution_count": 14
        }
      ]
    },
    {
      "cell_type": "code",
      "metadata": {
        "id": "rs4fe99FqQEN",
        "colab_type": "code",
        "outputId": "bbd25ee2-a28e-4a7f-d09b-2cd689695424",
        "colab": {
          "base_uri": "https://localhost:8080/",
          "height": 896
        }
      },
      "source": [
        "# Selecionando todos os dados da 5º e da última coluna\n",
        "df.iloc[:,4:6]"
      ],
      "execution_count": 0,
      "outputs": [
        {
          "output_type": "execute_result",
          "data": {
            "text/html": [
              "<div>\n",
              "<style scoped>\n",
              "    .dataframe tbody tr th:only-of-type {\n",
              "        vertical-align: middle;\n",
              "    }\n",
              "\n",
              "    .dataframe tbody tr th {\n",
              "        vertical-align: top;\n",
              "    }\n",
              "\n",
              "    .dataframe thead th {\n",
              "        text-align: right;\n",
              "    }\n",
              "</style>\n",
              "<table border=\"1\" class=\"dataframe\">\n",
              "  <thead>\n",
              "    <tr style=\"text-align: right;\">\n",
              "      <th></th>\n",
              "      <th>cases_discarded</th>\n",
              "      <th>cases_reported_total</th>\n",
              "    </tr>\n",
              "  </thead>\n",
              "  <tbody>\n",
              "    <tr>\n",
              "      <th>0</th>\n",
              "      <td>0</td>\n",
              "      <td>158</td>\n",
              "    </tr>\n",
              "    <tr>\n",
              "      <th>1</th>\n",
              "      <td>27</td>\n",
              "      <td>533</td>\n",
              "    </tr>\n",
              "    <tr>\n",
              "      <th>2</th>\n",
              "      <td>7</td>\n",
              "      <td>229</td>\n",
              "    </tr>\n",
              "    <tr>\n",
              "      <th>3</th>\n",
              "      <td>15</td>\n",
              "      <td>134</td>\n",
              "    </tr>\n",
              "    <tr>\n",
              "      <th>4</th>\n",
              "      <td>181</td>\n",
              "      <td>709</td>\n",
              "    </tr>\n",
              "    <tr>\n",
              "      <th>5</th>\n",
              "      <td>110</td>\n",
              "      <td>1373</td>\n",
              "    </tr>\n",
              "    <tr>\n",
              "      <th>6</th>\n",
              "      <td>0</td>\n",
              "      <td>91</td>\n",
              "    </tr>\n",
              "    <tr>\n",
              "      <th>7</th>\n",
              "      <td>15</td>\n",
              "      <td>208</td>\n",
              "    </tr>\n",
              "    <tr>\n",
              "      <th>8</th>\n",
              "      <td>0</td>\n",
              "      <td>172</td>\n",
              "    </tr>\n",
              "    <tr>\n",
              "      <th>9</th>\n",
              "      <td>0</td>\n",
              "      <td>52</td>\n",
              "    </tr>\n",
              "    <tr>\n",
              "      <th>10</th>\n",
              "      <td>39</td>\n",
              "      <td>48</td>\n",
              "    </tr>\n",
              "    <tr>\n",
              "      <th>11</th>\n",
              "      <td>0</td>\n",
              "      <td>122</td>\n",
              "    </tr>\n",
              "    <tr>\n",
              "      <th>12</th>\n",
              "      <td>0</td>\n",
              "      <td>18</td>\n",
              "    </tr>\n",
              "    <tr>\n",
              "      <th>13</th>\n",
              "      <td>Sem registros</td>\n",
              "      <td>Sem registros</td>\n",
              "    </tr>\n",
              "    <tr>\n",
              "      <th>14</th>\n",
              "      <td>Sem registros</td>\n",
              "      <td>Sem registros</td>\n",
              "    </tr>\n",
              "    <tr>\n",
              "      <th>15</th>\n",
              "      <td>Sem registros</td>\n",
              "      <td>Sem registros</td>\n",
              "    </tr>\n",
              "    <tr>\n",
              "      <th>16</th>\n",
              "      <td>0</td>\n",
              "      <td>6</td>\n",
              "    </tr>\n",
              "    <tr>\n",
              "      <th>17</th>\n",
              "      <td>0</td>\n",
              "      <td>1</td>\n",
              "    </tr>\n",
              "    <tr>\n",
              "      <th>18</th>\n",
              "      <td>0</td>\n",
              "      <td>5</td>\n",
              "    </tr>\n",
              "    <tr>\n",
              "      <th>19</th>\n",
              "      <td>12</td>\n",
              "      <td>82</td>\n",
              "    </tr>\n",
              "    <tr>\n",
              "      <th>20</th>\n",
              "      <td>9</td>\n",
              "      <td>14</td>\n",
              "    </tr>\n",
              "    <tr>\n",
              "      <th>21</th>\n",
              "      <td>0</td>\n",
              "      <td>62</td>\n",
              "    </tr>\n",
              "    <tr>\n",
              "      <th>22</th>\n",
              "      <td>37</td>\n",
              "      <td>147</td>\n",
              "    </tr>\n",
              "    <tr>\n",
              "      <th>23</th>\n",
              "      <td>1</td>\n",
              "      <td>4</td>\n",
              "    </tr>\n",
              "    <tr>\n",
              "      <th>24</th>\n",
              "      <td>8</td>\n",
              "      <td>10</td>\n",
              "    </tr>\n",
              "    <tr>\n",
              "      <th>25</th>\n",
              "      <td>1</td>\n",
              "      <td>1</td>\n",
              "    </tr>\n",
              "    <tr>\n",
              "      <th>26</th>\n",
              "      <td>0</td>\n",
              "      <td>1</td>\n",
              "    </tr>\n",
              "  </tbody>\n",
              "</table>\n",
              "</div>"
            ],
            "text/plain": [
              "   cases_discarded cases_reported_total\n",
              "0                0                  158\n",
              "1               27                  533\n",
              "2                7                  229\n",
              "3               15                  134\n",
              "4              181                  709\n",
              "5              110                 1373\n",
              "6                0                   91\n",
              "7               15                  208\n",
              "8                0                  172\n",
              "9                0                   52\n",
              "10              39                   48\n",
              "11               0                  122\n",
              "12               0                   18\n",
              "13   Sem registros       Sem registros \n",
              "14   Sem registros       Sem registros \n",
              "15   Sem registros       Sem registros \n",
              "16               0                    6\n",
              "17               0                    1\n",
              "18               0                    5\n",
              "19              12                   82\n",
              "20               9                   14\n",
              "21               0                   62\n",
              "22              37                  147\n",
              "23               1                    4\n",
              "24               8                   10\n",
              "25               1                    1\n",
              "26               0                    1"
            ]
          },
          "metadata": {
            "tags": []
          },
          "execution_count": 27
        }
      ]
    },
    {
      "cell_type": "code",
      "metadata": {
        "id": "-4YvWKawsCRR",
        "colab_type": "code",
        "outputId": "8a3b3eea-b9e6-47f2-cc88-972dc00ea3e9",
        "colab": {
          "base_uri": "https://localhost:8080/",
          "height": 143
        }
      },
      "source": [
        "# Selecionando a 1º, a 3º e 6º linha da 1º até a 3º coluna \n",
        "df.iloc[[0,2,5], 1:4]"
      ],
      "execution_count": 0,
      "outputs": [
        {
          "output_type": "execute_result",
          "data": {
            "text/html": [
              "<div>\n",
              "<style scoped>\n",
              "    .dataframe tbody tr th:only-of-type {\n",
              "        vertical-align: middle;\n",
              "    }\n",
              "\n",
              "    .dataframe tbody tr th {\n",
              "        vertical-align: top;\n",
              "    }\n",
              "\n",
              "    .dataframe thead th {\n",
              "        text-align: right;\n",
              "    }\n",
              "</style>\n",
              "<table border=\"1\" class=\"dataframe\">\n",
              "  <thead>\n",
              "    <tr style=\"text-align: right;\">\n",
              "      <th></th>\n",
              "      <th>state</th>\n",
              "      <th>cases_under_investigation</th>\n",
              "      <th>cases_confirmed</th>\n",
              "    </tr>\n",
              "  </thead>\n",
              "  <tbody>\n",
              "    <tr>\n",
              "      <th>0</th>\n",
              "      <td>Alagoas</td>\n",
              "      <td>158</td>\n",
              "      <td>0</td>\n",
              "    </tr>\n",
              "    <tr>\n",
              "      <th>2</th>\n",
              "      <td>Ceará</td>\n",
              "      <td>218</td>\n",
              "      <td>4</td>\n",
              "    </tr>\n",
              "    <tr>\n",
              "      <th>5</th>\n",
              "      <td>Pernambuco</td>\n",
              "      <td>1125</td>\n",
              "      <td>138</td>\n",
              "    </tr>\n",
              "  </tbody>\n",
              "</table>\n",
              "</div>"
            ],
            "text/plain": [
              "        state cases_under_investigation cases_confirmed\n",
              "0     Alagoas                       158               0\n",
              "2       Ceará                       218               4\n",
              "5  Pernambuco                      1125             138"
            ]
          },
          "metadata": {
            "tags": []
          },
          "execution_count": 29
        }
      ]
    }
  ]
}