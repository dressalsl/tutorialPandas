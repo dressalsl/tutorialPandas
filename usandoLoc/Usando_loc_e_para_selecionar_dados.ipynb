{
  "nbformat": 4,
  "nbformat_minor": 0,
  "metadata": {
    "colab": {
      "name": "Usando loc e para selecionar dados.ipynb",
      "version": "0.3.2",
      "provenance": [],
      "collapsed_sections": []
    },
    "kernelspec": {
      "name": "python3",
      "display_name": "Python 3"
    }
  },
  "cells": [
    {
      "cell_type": "code",
      "metadata": {
        "id": "qQr6zLTQ-4TV",
        "colab_type": "code",
        "colab": {}
      },
      "source": [
        "import pandas as pd\n",
        "import io\n",
        "import requests"
      ],
      "execution_count": 0,
      "outputs": []
    },
    {
      "cell_type": "code",
      "metadata": {
        "id": "8KH7ZpmaIpPJ",
        "colab_type": "code",
        "outputId": "9f035057-91cd-4fa6-9b41-53c5dd00fb15",
        "colab": {
          "base_uri": "https://localhost:8080/",
          "height": 206
        }
      },
      "source": [
        "url = \"https://raw.githubusercontent.com/BuzzFeedNews/zika-data/master/data/parsed/brazil/brazil-microcephaly-2016-01-23-table-1.csv\"\n",
        "df = pd.read_csv(url, sep=',')\n",
        "df.head()"
      ],
      "execution_count": 0,
      "outputs": [
        {
          "output_type": "execute_result",
          "data": {
            "text/html": [
              "<div>\n",
              "<style scoped>\n",
              "    .dataframe tbody tr th:only-of-type {\n",
              "        vertical-align: middle;\n",
              "    }\n",
              "\n",
              "    .dataframe tbody tr th {\n",
              "        vertical-align: top;\n",
              "    }\n",
              "\n",
              "    .dataframe thead th {\n",
              "        text-align: right;\n",
              "    }\n",
              "</style>\n",
              "<table border=\"1\" class=\"dataframe\">\n",
              "  <thead>\n",
              "    <tr style=\"text-align: right;\">\n",
              "      <th></th>\n",
              "      <th>no</th>\n",
              "      <th>state</th>\n",
              "      <th>cases_under_investigation</th>\n",
              "      <th>cases_confirmed</th>\n",
              "      <th>cases_discarded</th>\n",
              "      <th>cases_reported_total</th>\n",
              "    </tr>\n",
              "  </thead>\n",
              "  <tbody>\n",
              "    <tr>\n",
              "      <th>0</th>\n",
              "      <td>1</td>\n",
              "      <td>Alagoas</td>\n",
              "      <td>158</td>\n",
              "      <td>0</td>\n",
              "      <td>0</td>\n",
              "      <td>158</td>\n",
              "    </tr>\n",
              "    <tr>\n",
              "      <th>1</th>\n",
              "      <td>2</td>\n",
              "      <td>Bahia</td>\n",
              "      <td>471</td>\n",
              "      <td>35</td>\n",
              "      <td>27</td>\n",
              "      <td>533</td>\n",
              "    </tr>\n",
              "    <tr>\n",
              "      <th>2</th>\n",
              "      <td>3</td>\n",
              "      <td>Ceará</td>\n",
              "      <td>218</td>\n",
              "      <td>4</td>\n",
              "      <td>7</td>\n",
              "      <td>229</td>\n",
              "    </tr>\n",
              "    <tr>\n",
              "      <th>3</th>\n",
              "      <td>4</td>\n",
              "      <td>Maranhão</td>\n",
              "      <td>119</td>\n",
              "      <td>0</td>\n",
              "      <td>15</td>\n",
              "      <td>134</td>\n",
              "    </tr>\n",
              "    <tr>\n",
              "      <th>4</th>\n",
              "      <td>5</td>\n",
              "      <td>Paraíba</td>\n",
              "      <td>497</td>\n",
              "      <td>31</td>\n",
              "      <td>181</td>\n",
              "      <td>709</td>\n",
              "    </tr>\n",
              "  </tbody>\n",
              "</table>\n",
              "</div>"
            ],
            "text/plain": [
              "   no     state  ... cases_discarded cases_reported_total\n",
              "0   1   Alagoas  ...               0                  158\n",
              "1   2     Bahia  ...              27                  533\n",
              "2   3     Ceará  ...               7                  229\n",
              "3   4  Maranhão  ...              15                  134\n",
              "4   5   Paraíba  ...             181                  709\n",
              "\n",
              "[5 rows x 6 columns]"
            ]
          },
          "metadata": {
            "tags": []
          },
          "execution_count": 26
        }
      ]
    },
    {
      "cell_type": "code",
      "metadata": {
        "id": "XPH2d6YVH2jZ",
        "colab_type": "code",
        "colab": {}
      },
      "source": [
        "# loc = Este método é baseado nas labels da colunas"
      ],
      "execution_count": 0,
      "outputs": []
    },
    {
      "cell_type": "code",
      "metadata": {
        "id": "zb1fIMK2bRiz",
        "colab_type": "code",
        "outputId": "8e51ae77-b5a3-4737-ab31-dce635c59b14",
        "colab": {
          "base_uri": "https://localhost:8080/",
          "height": 81
        }
      },
      "source": [
        "# Usando loc com índice\n",
        "df.loc[[4]]"
      ],
      "execution_count": 0,
      "outputs": [
        {
          "output_type": "execute_result",
          "data": {
            "text/html": [
              "<div>\n",
              "<style scoped>\n",
              "    .dataframe tbody tr th:only-of-type {\n",
              "        vertical-align: middle;\n",
              "    }\n",
              "\n",
              "    .dataframe tbody tr th {\n",
              "        vertical-align: top;\n",
              "    }\n",
              "\n",
              "    .dataframe thead th {\n",
              "        text-align: right;\n",
              "    }\n",
              "</style>\n",
              "<table border=\"1\" class=\"dataframe\">\n",
              "  <thead>\n",
              "    <tr style=\"text-align: right;\">\n",
              "      <th></th>\n",
              "      <th>no</th>\n",
              "      <th>state</th>\n",
              "      <th>cases_under_investigation</th>\n",
              "      <th>cases_confirmed</th>\n",
              "      <th>cases_discarded</th>\n",
              "      <th>cases_reported_total</th>\n",
              "    </tr>\n",
              "  </thead>\n",
              "  <tbody>\n",
              "    <tr>\n",
              "      <th>4</th>\n",
              "      <td>5</td>\n",
              "      <td>Paraíba</td>\n",
              "      <td>497</td>\n",
              "      <td>31</td>\n",
              "      <td>181</td>\n",
              "      <td>709</td>\n",
              "    </tr>\n",
              "  </tbody>\n",
              "</table>\n",
              "</div>"
            ],
            "text/plain": [
              "   no    state  ... cases_discarded cases_reported_total\n",
              "4   5  Paraíba  ...             181                  709\n",
              "\n",
              "[1 rows x 6 columns]"
            ]
          },
          "metadata": {
            "tags": []
          },
          "execution_count": 28
        }
      ]
    },
    {
      "cell_type": "code",
      "metadata": {
        "id": "Atu_UU4dcI1X",
        "colab_type": "code",
        "outputId": "d623b5fb-c722-467a-86fa-21e41009f7f9",
        "colab": {
          "base_uri": "https://localhost:8080/",
          "height": 143
        }
      },
      "source": [
        "# Usando loc com array\n",
        "df.loc[[0,4,18]]"
      ],
      "execution_count": 0,
      "outputs": [
        {
          "output_type": "execute_result",
          "data": {
            "text/html": [
              "<div>\n",
              "<style scoped>\n",
              "    .dataframe tbody tr th:only-of-type {\n",
              "        vertical-align: middle;\n",
              "    }\n",
              "\n",
              "    .dataframe tbody tr th {\n",
              "        vertical-align: top;\n",
              "    }\n",
              "\n",
              "    .dataframe thead th {\n",
              "        text-align: right;\n",
              "    }\n",
              "</style>\n",
              "<table border=\"1\" class=\"dataframe\">\n",
              "  <thead>\n",
              "    <tr style=\"text-align: right;\">\n",
              "      <th></th>\n",
              "      <th>no</th>\n",
              "      <th>state</th>\n",
              "      <th>cases_under_investigation</th>\n",
              "      <th>cases_confirmed</th>\n",
              "      <th>cases_discarded</th>\n",
              "      <th>cases_reported_total</th>\n",
              "    </tr>\n",
              "  </thead>\n",
              "  <tbody>\n",
              "    <tr>\n",
              "      <th>0</th>\n",
              "      <td>1</td>\n",
              "      <td>Alagoas</td>\n",
              "      <td>158</td>\n",
              "      <td>0</td>\n",
              "      <td>0</td>\n",
              "      <td>158</td>\n",
              "    </tr>\n",
              "    <tr>\n",
              "      <th>4</th>\n",
              "      <td>5</td>\n",
              "      <td>Paraíba</td>\n",
              "      <td>497</td>\n",
              "      <td>31</td>\n",
              "      <td>181</td>\n",
              "      <td>709</td>\n",
              "    </tr>\n",
              "    <tr>\n",
              "      <th>18</th>\n",
              "      <td>19</td>\n",
              "      <td>Roraima</td>\n",
              "      <td>5</td>\n",
              "      <td>0</td>\n",
              "      <td>0</td>\n",
              "      <td>5</td>\n",
              "    </tr>\n",
              "  </tbody>\n",
              "</table>\n",
              "</div>"
            ],
            "text/plain": [
              "    no    state  ... cases_discarded cases_reported_total\n",
              "0    1  Alagoas  ...               0                  158\n",
              "4    5  Paraíba  ...             181                  709\n",
              "18  19  Roraima  ...               0                    5\n",
              "\n",
              "[3 rows x 6 columns]"
            ]
          },
          "metadata": {
            "tags": []
          },
          "execution_count": 29
        }
      ]
    },
    {
      "cell_type": "code",
      "metadata": {
        "id": "gLPc0ZpoccIW",
        "colab_type": "code",
        "outputId": "ed3ff9cf-32fb-4b65-ed9b-cc8d0c9f8341",
        "colab": {
          "base_uri": "https://localhost:8080/",
          "height": 206
        }
      },
      "source": [
        "# Usando loc por fatiamento\n",
        "df.loc[5:9]"
      ],
      "execution_count": 0,
      "outputs": [
        {
          "output_type": "execute_result",
          "data": {
            "text/html": [
              "<div>\n",
              "<style scoped>\n",
              "    .dataframe tbody tr th:only-of-type {\n",
              "        vertical-align: middle;\n",
              "    }\n",
              "\n",
              "    .dataframe tbody tr th {\n",
              "        vertical-align: top;\n",
              "    }\n",
              "\n",
              "    .dataframe thead th {\n",
              "        text-align: right;\n",
              "    }\n",
              "</style>\n",
              "<table border=\"1\" class=\"dataframe\">\n",
              "  <thead>\n",
              "    <tr style=\"text-align: right;\">\n",
              "      <th></th>\n",
              "      <th>no</th>\n",
              "      <th>state</th>\n",
              "      <th>cases_under_investigation</th>\n",
              "      <th>cases_confirmed</th>\n",
              "      <th>cases_discarded</th>\n",
              "      <th>cases_reported_total</th>\n",
              "    </tr>\n",
              "  </thead>\n",
              "  <tbody>\n",
              "    <tr>\n",
              "      <th>5</th>\n",
              "      <td>6</td>\n",
              "      <td>Pernambuco</td>\n",
              "      <td>1125</td>\n",
              "      <td>138</td>\n",
              "      <td>110</td>\n",
              "      <td>1373</td>\n",
              "    </tr>\n",
              "    <tr>\n",
              "      <th>6</th>\n",
              "      <td>7</td>\n",
              "      <td>Piauí</td>\n",
              "      <td>91</td>\n",
              "      <td>0</td>\n",
              "      <td>0</td>\n",
              "      <td>91</td>\n",
              "    </tr>\n",
              "    <tr>\n",
              "      <th>7</th>\n",
              "      <td>8</td>\n",
              "      <td>Rio Grande do Norte</td>\n",
              "      <td>133</td>\n",
              "      <td>60</td>\n",
              "      <td>15</td>\n",
              "      <td>208</td>\n",
              "    </tr>\n",
              "    <tr>\n",
              "      <th>8</th>\n",
              "      <td>9</td>\n",
              "      <td>Sergipe</td>\n",
              "      <td>172</td>\n",
              "      <td>0</td>\n",
              "      <td>0</td>\n",
              "      <td>172</td>\n",
              "    </tr>\n",
              "    <tr>\n",
              "      <th>9</th>\n",
              "      <td>10</td>\n",
              "      <td>Espírito Santo</td>\n",
              "      <td>52</td>\n",
              "      <td>0</td>\n",
              "      <td>0</td>\n",
              "      <td>52</td>\n",
              "    </tr>\n",
              "  </tbody>\n",
              "</table>\n",
              "</div>"
            ],
            "text/plain": [
              "   no                state  ... cases_discarded cases_reported_total\n",
              "5   6           Pernambuco  ...             110                 1373\n",
              "6   7                Piauí  ...               0                   91\n",
              "7   8  Rio Grande do Norte  ...              15                  208\n",
              "8   9              Sergipe  ...               0                  172\n",
              "9  10       Espírito Santo  ...               0                   52\n",
              "\n",
              "[5 rows x 6 columns]"
            ]
          },
          "metadata": {
            "tags": []
          },
          "execution_count": 30
        }
      ]
    },
    {
      "cell_type": "code",
      "metadata": {
        "id": "fy27xMTLcxm-",
        "colab_type": "code",
        "outputId": "e397de73-8eb7-4cac-bf6c-c7bb8badcfa3",
        "colab": {
          "base_uri": "https://localhost:8080/",
          "height": 238
        }
      },
      "source": [
        "# Para usar o loc chamando pelo nome da linha, devemos primeiro setar um index\n",
        "df2 = df.set_index(\"state\")\n",
        "# Visualizando a alteração\n",
        "df2.head()"
      ],
      "execution_count": 0,
      "outputs": [
        {
          "output_type": "execute_result",
          "data": {
            "text/html": [
              "<div>\n",
              "<style scoped>\n",
              "    .dataframe tbody tr th:only-of-type {\n",
              "        vertical-align: middle;\n",
              "    }\n",
              "\n",
              "    .dataframe tbody tr th {\n",
              "        vertical-align: top;\n",
              "    }\n",
              "\n",
              "    .dataframe thead th {\n",
              "        text-align: right;\n",
              "    }\n",
              "</style>\n",
              "<table border=\"1\" class=\"dataframe\">\n",
              "  <thead>\n",
              "    <tr style=\"text-align: right;\">\n",
              "      <th></th>\n",
              "      <th>no</th>\n",
              "      <th>cases_under_investigation</th>\n",
              "      <th>cases_confirmed</th>\n",
              "      <th>cases_discarded</th>\n",
              "      <th>cases_reported_total</th>\n",
              "    </tr>\n",
              "    <tr>\n",
              "      <th>state</th>\n",
              "      <th></th>\n",
              "      <th></th>\n",
              "      <th></th>\n",
              "      <th></th>\n",
              "      <th></th>\n",
              "    </tr>\n",
              "  </thead>\n",
              "  <tbody>\n",
              "    <tr>\n",
              "      <th>Alagoas</th>\n",
              "      <td>1</td>\n",
              "      <td>158</td>\n",
              "      <td>0</td>\n",
              "      <td>0</td>\n",
              "      <td>158</td>\n",
              "    </tr>\n",
              "    <tr>\n",
              "      <th>Bahia</th>\n",
              "      <td>2</td>\n",
              "      <td>471</td>\n",
              "      <td>35</td>\n",
              "      <td>27</td>\n",
              "      <td>533</td>\n",
              "    </tr>\n",
              "    <tr>\n",
              "      <th>Ceará</th>\n",
              "      <td>3</td>\n",
              "      <td>218</td>\n",
              "      <td>4</td>\n",
              "      <td>7</td>\n",
              "      <td>229</td>\n",
              "    </tr>\n",
              "    <tr>\n",
              "      <th>Maranhão</th>\n",
              "      <td>4</td>\n",
              "      <td>119</td>\n",
              "      <td>0</td>\n",
              "      <td>15</td>\n",
              "      <td>134</td>\n",
              "    </tr>\n",
              "    <tr>\n",
              "      <th>Paraíba</th>\n",
              "      <td>5</td>\n",
              "      <td>497</td>\n",
              "      <td>31</td>\n",
              "      <td>181</td>\n",
              "      <td>709</td>\n",
              "    </tr>\n",
              "  </tbody>\n",
              "</table>\n",
              "</div>"
            ],
            "text/plain": [
              "          no cases_under_investigation  ... cases_discarded cases_reported_total\n",
              "state                                   ...                                     \n",
              "Alagoas    1                       158  ...               0                  158\n",
              "Bahia      2                       471  ...              27                  533\n",
              "Ceará      3                       218  ...               7                  229\n",
              "Maranhão   4                       119  ...              15                  134\n",
              "Paraíba    5                       497  ...             181                  709\n",
              "\n",
              "[5 rows x 5 columns]"
            ]
          },
          "metadata": {
            "tags": []
          },
          "execution_count": 36
        }
      ]
    },
    {
      "cell_type": "code",
      "metadata": {
        "id": "zYLv1IF5eTER",
        "colab_type": "code",
        "outputId": "50264aca-41c4-4752-ed5a-c7f285735233",
        "colab": {
          "base_uri": "https://localhost:8080/",
          "height": 121
        }
      },
      "source": [
        "# Após setar, podemos chamar pelo nome da linha\n",
        "df2.loc[\"Pernambuco\"]"
      ],
      "execution_count": 0,
      "outputs": [
        {
          "output_type": "execute_result",
          "data": {
            "text/plain": [
              "no                              6\n",
              "cases_under_investigation    1125\n",
              "cases_confirmed               138\n",
              "cases_discarded               110\n",
              "cases_reported_total         1373\n",
              "Name: Pernambuco, dtype: object"
            ]
          },
          "metadata": {
            "tags": []
          },
          "execution_count": 41
        }
      ]
    },
    {
      "cell_type": "code",
      "metadata": {
        "id": "qDpacHvOfPX_",
        "colab_type": "code",
        "outputId": "2fee488e-09af-4f13-f098-e2c988cb0892",
        "colab": {
          "base_uri": "https://localhost:8080/",
          "height": 175
        }
      },
      "source": [
        "# Podemos selecionar linhas e colunas usando um array com linhas e outro com as colunas\n",
        "df2.loc[[\"Pernambuco\",\"Ceará\",\"Bahia\"],[\"cases_confirmed\",\"cases_reported_total\"]]"
      ],
      "execution_count": 0,
      "outputs": [
        {
          "output_type": "execute_result",
          "data": {
            "text/html": [
              "<div>\n",
              "<style scoped>\n",
              "    .dataframe tbody tr th:only-of-type {\n",
              "        vertical-align: middle;\n",
              "    }\n",
              "\n",
              "    .dataframe tbody tr th {\n",
              "        vertical-align: top;\n",
              "    }\n",
              "\n",
              "    .dataframe thead th {\n",
              "        text-align: right;\n",
              "    }\n",
              "</style>\n",
              "<table border=\"1\" class=\"dataframe\">\n",
              "  <thead>\n",
              "    <tr style=\"text-align: right;\">\n",
              "      <th></th>\n",
              "      <th>cases_confirmed</th>\n",
              "      <th>cases_reported_total</th>\n",
              "    </tr>\n",
              "    <tr>\n",
              "      <th>state</th>\n",
              "      <th></th>\n",
              "      <th></th>\n",
              "    </tr>\n",
              "  </thead>\n",
              "  <tbody>\n",
              "    <tr>\n",
              "      <th>Pernambuco</th>\n",
              "      <td>138</td>\n",
              "      <td>1373</td>\n",
              "    </tr>\n",
              "    <tr>\n",
              "      <th>Ceará</th>\n",
              "      <td>4</td>\n",
              "      <td>229</td>\n",
              "    </tr>\n",
              "    <tr>\n",
              "      <th>Bahia</th>\n",
              "      <td>35</td>\n",
              "      <td>533</td>\n",
              "    </tr>\n",
              "  </tbody>\n",
              "</table>\n",
              "</div>"
            ],
            "text/plain": [
              "           cases_confirmed cases_reported_total\n",
              "state                                          \n",
              "Pernambuco             138                 1373\n",
              "Ceará                    4                  229\n",
              "Bahia                   35                  533"
            ]
          },
          "metadata": {
            "tags": []
          },
          "execution_count": 42
        }
      ]
    },
    {
      "cell_type": "code",
      "metadata": {
        "id": "DXQLwZxugB9v",
        "colab_type": "code",
        "outputId": "61a7a499-95e7-455f-9f1b-2064c02959e5",
        "colab": {
          "base_uri": "https://localhost:8080/",
          "height": 300
        }
      },
      "source": [
        "# Filtrando casos confirmados acima de 10 \n",
        "\"\"\" Note que o \"10\" é uma string, por isso que aparece também os casos \n",
        "    \"Sem registros\" \n",
        "\"\"\"\n",
        "df.loc[df['cases_confirmed'] > \"10\"]"
      ],
      "execution_count": 0,
      "outputs": [
        {
          "output_type": "execute_result",
          "data": {
            "text/html": [
              "<div>\n",
              "<style scoped>\n",
              "    .dataframe tbody tr th:only-of-type {\n",
              "        vertical-align: middle;\n",
              "    }\n",
              "\n",
              "    .dataframe tbody tr th {\n",
              "        vertical-align: top;\n",
              "    }\n",
              "\n",
              "    .dataframe thead th {\n",
              "        text-align: right;\n",
              "    }\n",
              "</style>\n",
              "<table border=\"1\" class=\"dataframe\">\n",
              "  <thead>\n",
              "    <tr style=\"text-align: right;\">\n",
              "      <th></th>\n",
              "      <th>no</th>\n",
              "      <th>state</th>\n",
              "      <th>cases_under_investigation</th>\n",
              "      <th>cases_confirmed</th>\n",
              "      <th>cases_discarded</th>\n",
              "      <th>cases_reported_total</th>\n",
              "    </tr>\n",
              "  </thead>\n",
              "  <tbody>\n",
              "    <tr>\n",
              "      <th>1</th>\n",
              "      <td>2</td>\n",
              "      <td>Bahia</td>\n",
              "      <td>471</td>\n",
              "      <td>35</td>\n",
              "      <td>27</td>\n",
              "      <td>533</td>\n",
              "    </tr>\n",
              "    <tr>\n",
              "      <th>2</th>\n",
              "      <td>3</td>\n",
              "      <td>Ceará</td>\n",
              "      <td>218</td>\n",
              "      <td>4</td>\n",
              "      <td>7</td>\n",
              "      <td>229</td>\n",
              "    </tr>\n",
              "    <tr>\n",
              "      <th>4</th>\n",
              "      <td>5</td>\n",
              "      <td>Paraíba</td>\n",
              "      <td>497</td>\n",
              "      <td>31</td>\n",
              "      <td>181</td>\n",
              "      <td>709</td>\n",
              "    </tr>\n",
              "    <tr>\n",
              "      <th>5</th>\n",
              "      <td>6</td>\n",
              "      <td>Pernambuco</td>\n",
              "      <td>1125</td>\n",
              "      <td>138</td>\n",
              "      <td>110</td>\n",
              "      <td>1373</td>\n",
              "    </tr>\n",
              "    <tr>\n",
              "      <th>7</th>\n",
              "      <td>8</td>\n",
              "      <td>Rio Grande do Norte</td>\n",
              "      <td>133</td>\n",
              "      <td>60</td>\n",
              "      <td>15</td>\n",
              "      <td>208</td>\n",
              "    </tr>\n",
              "    <tr>\n",
              "      <th>13</th>\n",
              "      <td>14</td>\n",
              "      <td>Acre</td>\n",
              "      <td>Sem registros</td>\n",
              "      <td>Sem registros</td>\n",
              "      <td>Sem registros</td>\n",
              "      <td>Sem registros</td>\n",
              "    </tr>\n",
              "    <tr>\n",
              "      <th>14</th>\n",
              "      <td>15</td>\n",
              "      <td>Amapá</td>\n",
              "      <td>Sem registros</td>\n",
              "      <td>Sem registros</td>\n",
              "      <td>Sem registros</td>\n",
              "      <td>Sem registros</td>\n",
              "    </tr>\n",
              "    <tr>\n",
              "      <th>15</th>\n",
              "      <td>16</td>\n",
              "      <td>Amazonas</td>\n",
              "      <td>Sem registros</td>\n",
              "      <td>Sem registros</td>\n",
              "      <td>Sem registros</td>\n",
              "      <td>Sem registros</td>\n",
              "    </tr>\n",
              "  </tbody>\n",
              "</table>\n",
              "</div>"
            ],
            "text/plain": [
              "    no                state  ... cases_discarded cases_reported_total\n",
              "1    2                Bahia  ...              27                  533\n",
              "2    3                Ceará  ...               7                  229\n",
              "4    5              Paraíba  ...             181                  709\n",
              "5    6           Pernambuco  ...             110                 1373\n",
              "7    8  Rio Grande do Norte  ...              15                  208\n",
              "13  14                 Acre  ...   Sem registros       Sem registros \n",
              "14  15                Amapá  ...   Sem registros       Sem registros \n",
              "15  16             Amazonas  ...   Sem registros       Sem registros \n",
              "\n",
              "[8 rows x 6 columns]"
            ]
          },
          "metadata": {
            "tags": []
          },
          "execution_count": 54
        }
      ]
    },
    {
      "cell_type": "code",
      "metadata": {
        "id": "lWq8ax-do4Oa",
        "colab_type": "code",
        "colab": {}
      },
      "source": [
        ""
      ],
      "execution_count": 0,
      "outputs": []
    }
  ]
}